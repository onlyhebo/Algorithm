{
 "cells": [
  {
   "cell_type": "code",
   "execution_count": 3,
   "metadata": {},
   "outputs": [],
   "source": [
    "from selenium.webdriver import Firefox\n",
    "from selenium.webdriver.common.by import By\n",
    "from selenium.webdriver.firefox.options import Options\n",
    "from selenium.webdriver.support import expected_conditions as EC\n",
    "from selenium.webdriver.support.wait import WebDriverWait\n",
    "from tqdm import tqdm"
   ]
  },
  {
   "cell_type": "code",
   "execution_count": 4,
   "metadata": {},
   "outputs": [],
   "source": [
    "options = Options()\n",
    "#options.add_argument('-headless')  # 无头参数\n",
    "web_driver = Firefox(options=options)  # 配了环境变量第一个参数就可以省了，不然传绝对路径\n",
    "web_driver.set_page_load_timeout(9999999)\n",
    "web_driver.implicitly_wait(10)\n",
    "wait = WebDriverWait(web_driver, timeout=20)"
   ]
  },
  {
   "cell_type": "code",
   "execution_count": 5,
   "metadata": {},
   "outputs": [],
   "source": [
    "import glob\n",
    "file = glob.glob('./zh/*.zh')\n",
    "file = [f.split('\\\\')[-1] for f in file]"
   ]
  },
  {
   "cell_type": "code",
   "execution_count": null,
   "metadata": {},
   "outputs": [
    {
     "name": "stderr",
     "output_type": "stream",
     "text": [
      "100%|████████████████████████████████████████████████████████████████████████████████| 500/500 [33:18<00:00,  4.15s/it]\n",
      "100%|████████████████████████████████████████████████████████████████████████████████| 500/500 [20:41<00:00,  2.20s/it]\n",
      " 62%|█████████████████████████████████████████████████▌                              | 310/500 [20:49<13:46,  4.35s/it]"
     ]
    }
   ],
   "source": [
    "for f in file:\n",
    "    zh = open('./zh/'+f, 'r',encoding='utf-8').readlines()\n",
    "    link = 'https://translate.google.com/?hl=zh-CN'\n",
    "    web_driver.get(link)\n",
    "    sleep_time = 5\n",
    "    import time\n",
    "    time.sleep(sleep_time)\n",
    "    \n",
    "    def refresh():\n",
    "        time.sleep(3)\n",
    "        input_frame = web_driver.find_element_by_css_selector('#source')\n",
    "        return input_frame\n",
    "\n",
    "    web_driver.find_element_by_css_selector('.tl-sugg > div:nth-child(2) > div:nth-child(2)').click()\n",
    "    input_frame = None\n",
    "    input_frame = refresh()\n",
    "    pre = ''\n",
    "    with open('./en/'+f.split('.')[0]+'.google', 'w+', encoding='utf-8') as f:\n",
    "        for line in tqdm(zh):\n",
    "            while True:   \n",
    "                try:\n",
    "                    input_frame.clear()\n",
    "                    input_frame.send_keys(line)\n",
    "                    time.sleep(2)\n",
    "                    cur = web_driver.find_element_by_css_selector('.result-shield-container').text\n",
    "                    if cur and cur != pre and cur.rstrip()[:-3] != pre:\n",
    "                        pre = cur\n",
    "                        cur = cur.replace('\\n', ' ')\n",
    "                        f.write(cur+'\\n')\n",
    "                        break\n",
    "                except:\n",
    "                    web_driver.refresh()\n",
    "                    input_frame = refresh()"
   ]
  },
  {
   "cell_type": "markdown",
   "metadata": {},
   "source": [
    "# Bing"
   ]
  },
  {
   "cell_type": "code",
   "execution_count": null,
   "metadata": {},
   "outputs": [],
   "source": [
    "link = 'https://cn.bing.com/translator'\n",
    "web_driver.get(link)\n",
    "pre = ''\n",
    "input_frame = web_driver.find_element_by_css_selector('#tta_input')\n",
    "with open('./en/cont.en.bing', 'w+', encoding='utf-8') as f:\n",
    "    for line in zh:\n",
    "        input_frame .clear()\n",
    "        input_frame.send_keys(line)\n",
    "        while True:\n",
    "            time.sleep(2)\n",
    "            cur =  web_driver.find_element_by_css_selector('#tta_output').get_attribute('value')\n",
    "            if cur and cur != pre:\n",
    "                pre = cur\n",
    "                cur = cur.replace('\\n', ' ')\n",
    "                f.write(cur+'\\n')\n",
    "                break\n",
    "            print('Again')"
   ]
  }
 ],
 "metadata": {
  "kernelspec": {
   "display_name": "Python 3",
   "language": "python",
   "name": "python3"
  },
  "language_info": {
   "codemirror_mode": {
    "name": "ipython",
    "version": 3
   },
   "file_extension": ".py",
   "mimetype": "text/x-python",
   "name": "python",
   "nbconvert_exporter": "python",
   "pygments_lexer": "ipython3",
   "version": "3.7.1"
  }
 },
 "nbformat": 4,
 "nbformat_minor": 2
}
